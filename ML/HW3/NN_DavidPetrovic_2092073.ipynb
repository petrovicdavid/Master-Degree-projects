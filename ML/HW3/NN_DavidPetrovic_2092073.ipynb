{
 "cells": [
  {
   "cell_type": "markdown",
   "metadata": {},
   "source": [
    "# Neural Networks for Classification\n",
    "\n",
    "In this notebook we are going to explore the use of Neural Networks for image classification. We are going to use a dataset of small images of clothes and accessories, the Fashion MNIST. You can find more information regarding the dataset here: https://pravarmahajan.github.io/fashion/\n",
    "\n",
    "Each instance in the dataset consist of an image, in a format similar to the digit images you have seen in the previous homework, and a label. The labels correspond to the type of clothing, as follows:\n",
    "\n",
    "| Label | Description |\n",
    "| --- | --- |\n",
    "| 0 | T-shirt/top |\n",
    "| 1 | Trouser |\n",
    "| 2 | Pullover |\n",
    "| 3 | Dress |\n",
    "| 4 | Coat |\n",
    "| 5 | Sandal |\n",
    "| 6 | Shirt |\n",
    "| 7 | Sneaker |\n",
    "| 8 | Bag |\n",
    "| 9 | Ankle boot |"
   ]
  },
  {
   "cell_type": "markdown",
   "metadata": {},
   "source": [
    "Let's first load the required packages."
   ]
  },
  {
   "cell_type": "code",
   "execution_count": 32,
   "metadata": {},
   "outputs": [],
   "source": [
    "#load the required packages\n",
    "\n",
    "%matplotlib inline  \n",
    "\n",
    "import numpy as np\n",
    "import scipy as sp\n",
    "import matplotlib.pyplot as plt\n",
    "\n",
    "import sklearn\n",
    "from sklearn.neural_network import MLPClassifier\n",
    "from sklearn.model_selection import GridSearchCV"
   ]
  },
  {
   "cell_type": "markdown",
   "metadata": {},
   "source": [
    "The following is a function to load the data, that we are going to use later in the notebook."
   ]
  },
  {
   "cell_type": "code",
   "execution_count": 33,
   "metadata": {},
   "outputs": [],
   "source": [
    "# helper function to load Fashion MNIST dataset from disk\n",
    "def load_fashion_mnist(path, kind='train'):\n",
    "    import os\n",
    "    import gzip\n",
    "    import numpy as np\n",
    "    labels_path = os.path.join(path, '%s-labels-idx1-ubyte.gz' % kind)\n",
    "    images_path = os.path.join(path, '%s-images-idx3-ubyte.gz' % kind)\n",
    "    with gzip.open(labels_path, 'rb') as lbpath:\n",
    "        labels = np.frombuffer(lbpath.read(), dtype=np.uint8,offset=8)\n",
    "    with gzip.open(images_path, 'rb') as imgpath:\n",
    "        images = np.frombuffer(imgpath.read(), dtype=np.uint8,offset=16).reshape(len(labels), 784)\n",
    "    return images, labels"
   ]
  },
  {
   "cell_type": "markdown",
   "metadata": {},
   "source": [
    "## TO DO 0\n",
    "Place your ID (\"numero di matricola\") that will be used as seed for random generator. Change the ID number in case you observe unexpected behaviours and want to test if this is due to randomization (e.g., train/test split). If you change the ID number explain here why you have changed it."
   ]
  },
  {
   "cell_type": "code",
   "execution_count": 34,
   "metadata": {},
   "outputs": [],
   "source": [
    "ID = 2092073\n",
    "np.random.seed(ID)"
   ]
  },
  {
   "cell_type": "markdown",
   "metadata": {},
   "source": [
    "Now we load the dataset using the function above."
   ]
  },
  {
   "cell_type": "code",
   "execution_count": 35,
   "metadata": {},
   "outputs": [],
   "source": [
    "#load the fashion MNIST dataset and normalize the features so that each value is in [0,1]\n",
    "X, y = load_fashion_mnist(\"data\")\n",
    "# rescale the data\n",
    "X = X / 255.0"
   ]
  },
  {
   "cell_type": "markdown",
   "metadata": {},
   "source": [
    "Now we split the data into training and test. Make sure that each label is present at least 10 times\n",
    "in the training set."
   ]
  },
  {
   "cell_type": "code",
   "execution_count": 36,
   "metadata": {},
   "outputs": [
    {
     "name": "stdout",
     "output_type": "stream",
     "text": [
      "Labels in training dataset:  [0 1 2 3 4 5 6 7 8 9]\n",
      "Frequencies in training dataset:  [58 48 49 42 51 42 53 48 51 58]\n"
     ]
    }
   ],
   "source": [
    "#random permute the data and split into training and test taking the first 500\n",
    "#data samples as training and the rest as test\n",
    "permutation = np.random.permutation(X.shape[0])\n",
    "\n",
    "X = X[permutation]\n",
    "y = y[permutation]\n",
    "\n",
    "m_training = 500\n",
    "\n",
    "X_train, X_test = X[:m_training], X[m_training:]\n",
    "y_train, y_test = y[:m_training], y[m_training:]\n",
    "\n",
    "labels, freqs = np.unique(y_train, return_counts=True)\n",
    "print(\"Labels in training dataset: \", labels)\n",
    "print(\"Frequencies in training dataset: \", freqs)\n"
   ]
  },
  {
   "cell_type": "markdown",
   "metadata": {},
   "source": [
    "The following function plots an image and the corresponding label, to be used to inspect the data when needed."
   ]
  },
  {
   "cell_type": "code",
   "execution_count": 37,
   "metadata": {},
   "outputs": [],
   "source": [
    "#function for plotting a image and printing the corresponding label\n",
    "def plot_input(X_matrix, labels, index):\n",
    "    print(\"INPUT:\")\n",
    "    plt.imshow(\n",
    "        X_matrix[index].reshape(28,28),\n",
    "        cmap          = plt.cm.gray_r,\n",
    "        interpolation = \"nearest\"\n",
    "    )\n",
    "    plt.show()\n",
    "    print(\"LABEL: %i\"%labels[index])\n",
    "    return"
   ]
  },
  {
   "cell_type": "markdown",
   "metadata": {},
   "source": [
    "Now let's test the function above and check few images."
   ]
  },
  {
   "cell_type": "code",
   "execution_count": 38,
   "metadata": {},
   "outputs": [
    {
     "name": "stdout",
     "output_type": "stream",
     "text": [
      "INPUT:\n"
     ]
    },
    {
     "data": {
      "image/png": "[encoded data removed]",
      "text/plain": [
       "<Figure size 432x288 with 1 Axes>"
      ]
     },
     "metadata": {
      "needs_background": "light"
     },
     "output_type": "display_data"
    },
    {
     "name": "stdout",
     "output_type": "stream",
     "text": [
      "LABEL: 6\n",
      "INPUT:\n"
     ]
    },
    {
     "data": {
      "image/png": "[encoded data removed]",
      "text/plain": [
       "<Figure size 432x288 with 1 Axes>"
      ]
     },
     "metadata": {
      "needs_background": "light"
     },
     "output_type": "display_data"
    },
    {
     "name": "stdout",
     "output_type": "stream",
     "text": [
      "LABEL: 7\n",
      "INPUT:\n"
     ]
    },
    {
     "data": {
      "image/png": "[encoded data removed]",
      "text/plain": [
       "<Figure size 432x288 with 1 Axes>"
      ]
     },
     "metadata": {
      "needs_background": "light"
     },
     "output_type": "display_data"
    },
    {
     "name": "stdout",
     "output_type": "stream",
     "text": [
      "LABEL: 4\n"
     ]
    }
   ],
   "source": [
    "#let's try the plotting function\n",
    "plot_input(X_train,y_train,10)\n",
    "plot_input(X_test,y_test,50)\n",
    "plot_input(X_test,y_test,300)"
   ]
  },
  {
   "cell_type": "markdown",
   "metadata": {},
   "source": [
    "### TO DO 1\n",
    "\n",
    "Now use a (feed-forward) Neural Network for prediction. Use the multi-layer perceptron (MLP) classifier MLPClassifier(...) in scikit-learn, with the following parameters: max_iter=300, alpha=1e-4, solver='sgd', tol=1e-4, learning_rate_init=.1, verbose=True, random_state=ID (this last parameter ensures the run is the same even if you run it more than once). The alpha parameter is the regularization parameter for L2 regularization that is used by the MLP in sklearn, and verbose=True allows you to see how loss changes in iterations (note that the loss used by the MLPClassifier may be different from the 0-1 loss, also called accuracy).\n",
    "\n",
    "Then, using the default activation function, we consider four architectures, with different numbers of hidden layers and different sizes. To evaluate the architectures we use the GridSearchCV with a 5-fold cross-validation, and use the results to pick the best architecture.\n"
   ]
  },
  {
   "cell_type": "code",
   "execution_count": 39,
   "metadata": {},
   "outputs": [
    {
     "name": "stdout",
     "output_type": "stream",
     "text": [
      "Iteration 1, loss = 2.25491382\n",
      "Iteration 2, loss = 1.70733521\n",
      "Iteration 3, loss = 2.34884016\n",
      "Iteration 4, loss = 1.72358340\n",
      "Iteration 5, loss = 1.30505856\n",
      "Iteration 6, loss = 0.96022002\n",
      "Iteration 7, loss = 0.91701609\n",
      "Iteration 8, loss = 1.02280261\n",
      "Iteration 9, loss = 0.67160418\n",
      "Iteration 10, loss = 0.73696319\n",
      "Iteration 11, loss = 0.73527840\n",
      "Iteration 12, loss = 0.54529491\n",
      "Iteration 13, loss = 0.53772922\n",
      "Iteration 14, loss = 0.45836909\n",
      "Iteration 15, loss = 0.43203743\n",
      "Iteration 16, loss = 0.38493747\n",
      "Iteration 17, loss = 0.46283769\n",
      "Iteration 18, loss = 0.35768386\n",
      "Iteration 19, loss = 0.35057716\n",
      "Iteration 20, loss = 0.31233269\n",
      "Iteration 21, loss = 0.25493533\n",
      "Iteration 22, loss = 0.24683603\n",
      "Iteration 23, loss = 0.22137739\n",
      "Iteration 24, loss = 0.25173307\n",
      "Iteration 25, loss = 0.33125051\n",
      "Iteration 26, loss = 0.18892812\n",
      "Iteration 27, loss = 0.17266796\n",
      "Iteration 28, loss = 0.17014549\n",
      "Iteration 29, loss = 0.18244899\n",
      "Iteration 30, loss = 0.28457711\n",
      "Iteration 31, loss = 0.15330721\n",
      "Iteration 32, loss = 0.14229224\n",
      "Iteration 33, loss = 0.12893273\n",
      "Iteration 34, loss = 1.16126137\n",
      "Iteration 35, loss = 0.47323924\n",
      "Iteration 36, loss = 0.42425472\n",
      "Iteration 37, loss = 0.33606783\n",
      "Iteration 38, loss = 0.27398936\n",
      "Iteration 39, loss = 0.26800044\n",
      "Iteration 40, loss = 0.23473009\n",
      "Iteration 41, loss = 0.18677074\n",
      "Iteration 42, loss = 0.16431492\n",
      "Iteration 43, loss = 0.17744512\n",
      "Iteration 44, loss = 0.19217239\n",
      "Training loss did not improve more than tol=0.000100 for 10 consecutive epochs. Stopping.\n"
     ]
    },
    {
     "data": {
      "text/plain": [
       "GridSearchCV(cv=5,\n",
       "             estimator=MLPClassifier(learning_rate_init=0.1, max_iter=300,\n",
       "                                     random_state=2092073, solver='sgd',\n",
       "                                     verbose=True),\n",
       "             n_jobs=-1,\n",
       "             param_grid={'hidden_layer_sizes': [(10,), (50,), (10, 10),\n",
       "                                                (50, 50)]})"
      ]
     },
     "execution_count": 39,
     "metadata": {},
     "output_type": "execute_result"
    }
   ],
   "source": [
    "#MLPclassifier requires in input the parameter hidden_layer_sizes, that is a tuple specifying the number of \n",
    "#neurons in the hidden layers; for example: (10,) means that there is only 1 hidden layer with 10 neurons; \n",
    "#(10,50) means that there are 2 hidden layers, the first with 10 neurons, the second with 50 neurons\n",
    "\n",
    "hl_parameters = {'hidden_layer_sizes': [(10,), (50,), (10,10,), (50,50,)]}\n",
    "\n",
    "mlp_cv =  GridSearchCV(MLPClassifier(max_iter=300, alpha=1e-4, solver=\"sgd\", tol=1e-4, learning_rate_init=.1, verbose=True, random_state=ID), hl_parameters, cv=5, n_jobs=-1)\n",
    "    \n",
    "mlp_cv.fit(X_train, y_train)"
   ]
  },
  {
   "cell_type": "code",
   "execution_count": 40,
   "metadata": {},
   "outputs": [
    {
     "name": "stdout",
     "output_type": "stream",
     "text": [
      "RESULTS FOR NN\n",
      "\n",
      "Best parameters set found:\n",
      "{'hidden_layer_sizes': (50, 50)}\n",
      "Score with best parameters:\n",
      "0.78\n",
      "\n",
      "All scores on the grid:\n",
      "{'mean_fit_time': array([0.60160093, 1.37920341, 0.38080144, 0.83845024]), 'std_fit_time': array([0.27055519, 0.07913069, 0.10716441, 0.05298982]), 'mean_score_time': array([0.00160046, 0.00319824, 0.00160022, 0.00159969]), 'std_score_time': array([0.00320091, 0.00391703, 0.00320044, 0.00319939]), 'param_hidden_layer_sizes': masked_array(data=[(10,), (50,), (10, 10), (50, 50)],\n",
      "             mask=[False, False, False, False],\n",
      "       fill_value='?',\n",
      "            dtype=object), 'params': [{'hidden_layer_sizes': (10,)}, {'hidden_layer_sizes': (50,)}, {'hidden_layer_sizes': (10, 10)}, {'hidden_layer_sizes': (50, 50)}], 'split0_test_score': array([0.62, 0.71, 0.62, 0.74]), 'split1_test_score': array([0.77, 0.81, 0.65, 0.82]), 'split2_test_score': array([0.76, 0.82, 0.17, 0.81]), 'split3_test_score': array([0.77, 0.77, 0.33, 0.77]), 'split4_test_score': array([0.74, 0.74, 0.61, 0.76]), 'mean_test_score': array([0.732, 0.77 , 0.476, 0.78 ]), 'std_test_score': array([0.05706137, 0.04147288, 0.19179155, 0.0303315 ]), 'rank_test_score': array([3, 2, 4, 1])}\n"
     ]
    }
   ],
   "source": [
    "print ('RESULTS FOR NN\\n')\n",
    "\n",
    "print(\"Best parameters set found:\")\n",
    "print(mlp_cv.best_params_)\n",
    "\n",
    "print(\"Score with best parameters:\")\n",
    "print(mlp_cv.best_score_)\n",
    "\n",
    "print(\"\\nAll scores on the grid:\")\n",
    "print(mlp_cv.cv_results_)"
   ]
  },
  {
   "cell_type": "markdown",
   "metadata": {},
   "source": [
    "## TO DO 2\n",
    "\n",
    "What do you observe for different architectures and their scores? How do the number of layers and their sizes affect the performances?"
   ]
  },
  {
   "cell_type": "markdown",
   "metadata": {},
   "source": [
    "\n",
    "|            | (10,) | (50,) | (10,10) | (50,50,) |\n",
    "|------------|-------|-------|---------|----------|\n",
    "| mean score | 0.732 | 0.77  | 0.476   | 0.78     |\n",
    "\n",
    "By looking at the mean score of the different architectures, I can observe that by increasing the number of hidden layers, the performance decreases as in the case of one hidden layer with 10 neurons with respect to two hidden layers with 10 neurons for each. The best result is obtained with two hidden layers with 50 neurons for each, but this score is not much greater than the one with one hidden layer with 50 neurons."
   ]
  },
  {
   "cell_type": "markdown",
   "metadata": {},
   "source": [
    "## TO DO 3\n",
    "\n",
    "Now get training and test error (according to the initial split) for a NN with best parameters chosen from the cross-validation above. Use the attribute *best_estimator_* to pick the best architecture already re-trained on the training dataset (more infos in the documentation of GridSearchCV)."
   ]
  },
  {
   "cell_type": "code",
   "execution_count": 41,
   "metadata": {},
   "outputs": [
    {
     "name": "stdout",
     "output_type": "stream",
     "text": [
      "\n",
      "RESULTS FOR BEST NN\n",
      "\n",
      "Best NN training error: 0.108000\n",
      "Best NN test error: 0.280185\n"
     ]
    }
   ],
   "source": [
    "#get training and test error for the best NN model from CV\n",
    "\n",
    "mlp = mlp_cv.best_estimator_\n",
    "\n",
    "training_error = 1. - mlp.score(X_train, y_train)\n",
    "\n",
    "test_error = 1. - mlp.score(X_test, y_test)\n",
    "\n",
    "print ('\\nRESULTS FOR BEST NN\\n')\n",
    "\n",
    "print (\"Best NN training error: %f\" % training_error)\n",
    "print (\"Best NN test error: %f\" % test_error)"
   ]
  },
  {
   "cell_type": "markdown",
   "metadata": {},
   "source": [
    "## More data \n",
    "Now let's do the same but using 10000 (or less if it takes too long on your machine) data points for training. Use the same NN architectures as before."
   ]
  },
  {
   "cell_type": "code",
   "execution_count": 42,
   "metadata": {},
   "outputs": [
    {
     "name": "stdout",
     "output_type": "stream",
     "text": [
      "Labels and frequencies in training dataset: \n"
     ]
    },
    {
     "data": {
      "text/plain": [
       "(array([0, 1, 2, 3, 4, 5, 6, 7, 8, 9], dtype=uint8),\n",
       " array([1012,  982,  978, 1001, 1008, 1004, 1003, 1031,  977, 1004],\n",
       "       dtype=int64))"
      ]
     },
     "execution_count": 42,
     "metadata": {},
     "output_type": "execute_result"
    }
   ],
   "source": [
    "X = X[permutation]\n",
    "y = y[permutation]\n",
    "\n",
    "m_training = 10000\n",
    "\n",
    "X_train, X_test = X[:m_training], X[m_training:]\n",
    "y_train, y_test = y[:m_training], y[m_training:]\n",
    "\n",
    "print(\"Labels and frequencies in training dataset: \")\n",
    "np.unique(y_train, return_counts=True)"
   ]
  },
  {
   "cell_type": "markdown",
   "metadata": {},
   "source": [
    "## TO DO 4\n",
    "\n",
    "Now train the NNs with the added data points. This time you can run for 100 iterations if you cannot run for 300 iterations."
   ]
  },
  {
   "cell_type": "code",
   "execution_count": 43,
   "metadata": {},
   "outputs": [
    {
     "name": "stdout",
     "output_type": "stream",
     "text": [
      "Iteration 1, loss = 0.97761196\n",
      "Iteration 2, loss = 0.53020741\n",
      "Iteration 3, loss = 0.46463118\n",
      "Iteration 4, loss = 0.42322391\n",
      "Iteration 5, loss = 0.39368520\n",
      "Iteration 6, loss = 0.37763717\n",
      "Iteration 7, loss = 0.35884962\n",
      "Iteration 8, loss = 0.33149101\n",
      "Iteration 9, loss = 0.31541128\n",
      "Iteration 10, loss = 0.31275389\n",
      "Iteration 11, loss = 0.29658956\n",
      "Iteration 12, loss = 0.26920272\n",
      "Iteration 13, loss = 0.27555927\n",
      "Iteration 14, loss = 0.25687842\n",
      "Iteration 15, loss = 0.25728044\n",
      "Iteration 16, loss = 0.24621523\n",
      "Iteration 17, loss = 0.23432262\n",
      "Iteration 18, loss = 0.23388816\n",
      "Iteration 19, loss = 0.23130445\n",
      "Iteration 20, loss = 0.21539199\n",
      "Iteration 21, loss = 0.20799861\n",
      "Iteration 22, loss = 0.20814305\n",
      "Iteration 23, loss = 0.20290893\n",
      "Iteration 24, loss = 0.18536334\n",
      "Iteration 25, loss = 0.19315575\n",
      "Iteration 26, loss = 0.18901716\n",
      "Iteration 27, loss = 0.19183780\n",
      "Iteration 28, loss = 0.18521186\n",
      "Iteration 29, loss = 0.18188527\n",
      "Iteration 30, loss = 0.17504784\n",
      "Iteration 31, loss = 0.16729318\n",
      "Iteration 32, loss = 0.16606795\n",
      "Iteration 33, loss = 0.16702418\n",
      "Iteration 34, loss = 0.14741548\n",
      "Iteration 35, loss = 0.15517668\n",
      "Iteration 36, loss = 0.15130564\n",
      "Iteration 37, loss = 0.14935017\n",
      "Iteration 38, loss = 0.13802022\n",
      "Iteration 39, loss = 0.13428008\n",
      "Iteration 40, loss = 0.13256972\n",
      "Iteration 41, loss = 0.13381896\n",
      "Iteration 42, loss = 0.12931600\n",
      "Iteration 43, loss = 0.12314409\n",
      "Iteration 44, loss = 0.11544944\n",
      "Iteration 45, loss = 0.11815316\n",
      "Iteration 46, loss = 0.11751102\n",
      "Iteration 47, loss = 0.12822237\n",
      "Iteration 48, loss = 0.11241796\n",
      "Iteration 49, loss = 0.11646100\n",
      "Iteration 50, loss = 0.12085931\n",
      "Iteration 51, loss = 0.11143798\n",
      "Iteration 52, loss = 0.09144219\n",
      "Iteration 53, loss = 0.13311674\n",
      "Iteration 54, loss = 0.10013599\n",
      "Iteration 55, loss = 0.09397184\n",
      "Iteration 56, loss = 0.08993806\n",
      "Iteration 57, loss = 0.10415304\n",
      "Iteration 58, loss = 0.12490453\n",
      "Iteration 59, loss = 0.09733069\n",
      "Iteration 60, loss = 0.08121719\n",
      "Iteration 61, loss = 0.08764241\n",
      "Iteration 62, loss = 0.08054224\n",
      "Iteration 63, loss = 0.08637277\n",
      "Iteration 64, loss = 0.09359353\n",
      "Iteration 65, loss = 0.10258721\n",
      "Iteration 66, loss = 0.07478661\n",
      "Iteration 67, loss = 0.07897919\n",
      "Iteration 68, loss = 0.07496157\n",
      "Iteration 69, loss = 0.08001736\n",
      "Iteration 70, loss = 0.07854805\n",
      "Iteration 71, loss = 0.06485459\n",
      "Iteration 72, loss = 0.06589669\n",
      "Iteration 73, loss = 0.08008114\n",
      "Iteration 74, loss = 0.06417955\n",
      "Iteration 75, loss = 0.11698147\n",
      "Iteration 76, loss = 0.07900673\n",
      "Iteration 77, loss = 0.06634212\n",
      "Iteration 78, loss = 0.06431087\n",
      "Iteration 79, loss = 0.05820828\n",
      "Iteration 80, loss = 0.06549285\n",
      "Iteration 81, loss = 0.05618984\n",
      "Iteration 82, loss = 0.05374599\n",
      "Iteration 83, loss = 0.05814011\n",
      "Iteration 84, loss = 0.03806861\n",
      "Iteration 85, loss = 0.06596908\n",
      "Iteration 86, loss = 0.04812529\n",
      "Iteration 87, loss = 0.04824204\n",
      "Iteration 88, loss = 0.05121111\n",
      "Iteration 89, loss = 0.04421256\n",
      "Iteration 90, loss = 0.04165042\n",
      "Iteration 91, loss = 0.05886546\n",
      "Iteration 92, loss = 0.06470999\n",
      "Iteration 93, loss = 0.05097650\n",
      "Iteration 94, loss = 0.07523620\n",
      "Iteration 95, loss = 0.07001490\n",
      "Training loss did not improve more than tol=0.000100 for 10 consecutive epochs. Stopping.\n"
     ]
    },
    {
     "data": {
      "text/plain": [
       "GridSearchCV(cv=5,\n",
       "             estimator=MLPClassifier(learning_rate_init=0.1, max_iter=300,\n",
       "                                     random_state=2092073, solver='sgd',\n",
       "                                     verbose=True),\n",
       "             n_jobs=-1,\n",
       "             param_grid={'hidden_layer_sizes': [(10,), (50,), (10, 10),\n",
       "                                                (50, 50)]})"
      ]
     },
     "execution_count": 43,
     "metadata": {},
     "output_type": "execute_result"
    }
   ],
   "source": [
    "#for NN we try the same architectures as before\n",
    "hl_parameters = {'hidden_layer_sizes': [(10,), (50,), (10,10,), (50,50,)]}\n",
    "\n",
    "mlp_large_cv = GridSearchCV(MLPClassifier(max_iter=300, alpha=1e-4, solver=\"sgd\", tol=1e-4, learning_rate_init=.1, verbose=True, random_state=ID), hl_parameters, cv=5, n_jobs=-1)\n",
    "\n",
    "mlp_large_cv.fit(X_train, y_train)"
   ]
  },
  {
   "cell_type": "code",
   "execution_count": 44,
   "metadata": {},
   "outputs": [
    {
     "name": "stdout",
     "output_type": "stream",
     "text": [
      "RESULTS FOR NN\n",
      "\n",
      "Best parameters set found:\n",
      "{'hidden_layer_sizes': (50, 50)}\n",
      "Score with best parameters:\n",
      "0.8461000000000001\n",
      "\n",
      "All scores on the grid:\n",
      "{'mean_fit_time': array([11.18269453, 23.19604087, 11.31282454, 17.7685163 ]), 'std_fit_time': array([5.20962604, 7.40066544, 2.90114755, 2.71310659]), 'mean_score_time': array([0.00802298, 0.01600022, 0.00963788, 0.00959616]), 'std_score_time': array([3.87030248e-05, 5.22871024e-06, 3.18090297e-03, 5.98463920e-03]), 'param_hidden_layer_sizes': masked_array(data=[(10,), (50,), (10, 10), (50, 50)],\n",
      "             mask=[False, False, False, False],\n",
      "       fill_value='?',\n",
      "            dtype=object), 'params': [{'hidden_layer_sizes': (10,)}, {'hidden_layer_sizes': (50,)}, {'hidden_layer_sizes': (10, 10)}, {'hidden_layer_sizes': (50, 50)}], 'split0_test_score': array([0.667 , 0.8455, 0.811 , 0.8555]), 'split1_test_score': array([0.814 , 0.8565, 0.812 , 0.854 ]), 'split2_test_score': array([0.7885, 0.839 , 0.786 , 0.8395]), 'split3_test_score': array([0.792 , 0.8425, 0.777 , 0.842 ]), 'split4_test_score': array([0.7965, 0.825 , 0.8045, 0.8395]), 'mean_test_score': array([0.7716, 0.8417, 0.7981, 0.8461]), 'std_test_score': array([0.05302961, 0.01020098, 0.01408687, 0.00713723]), 'rank_test_score': array([4, 2, 3, 1])}\n"
     ]
    }
   ],
   "source": [
    "print ('RESULTS FOR NN\\n')\n",
    "\n",
    "print(\"Best parameters set found:\")\n",
    "print(mlp_large_cv.best_params_)\n",
    "\n",
    "print(\"Score with best parameters:\")\n",
    "print(mlp_large_cv.best_score_)\n",
    "\n",
    "print(\"\\nAll scores on the grid:\")\n",
    "print(mlp_large_cv.cv_results_)"
   ]
  },
  {
   "cell_type": "markdown",
   "metadata": {},
   "source": [
    "## TO DO 5\n",
    "Describe your architecture choices and the results you observe with respect to the architectures you used.\n",
    "\n",
    "|            |  (10,) |  (50,)  |  (10,10) |  (50,50,)  |\n",
    "|------------|--------|---------|----------|------------|\n",
    "| mean score | 0.7716 | 0.8417  | 0.7981   | 0.8461     |\n",
    "\n",
    "In this case, increasing the number of neurons improve the performance but also by increasing the number of hidden layers. In fact, if I compare the first and the third cases that use the same number of neurons (10), I can see that the score is higher in the case with two hidden layers. As before, the best result is obtained by using two hidden layers with 50 neurons for each and also in this case the difference between this one and the one with one hidden layer and 50 neurons is minimal. To conclude, by using 10000 samples for training and increasing the number of hidden layers the performance increases but also in this case, by increasing the number of neurons I obtain the best results."
   ]
  },
  {
   "cell_type": "markdown",
   "metadata": {},
   "source": [
    "## TO DO 6\n",
    "\n",
    "Get the train and test error for the best NN you obtained with 10000 points. "
   ]
  },
  {
   "cell_type": "code",
   "execution_count": 45,
   "metadata": {},
   "outputs": [
    {
     "name": "stdout",
     "output_type": "stream",
     "text": [
      "RESULTS FOR BEST NN\n",
      "\n",
      "Best NN training error: 0.011900\n",
      "Best NN test error: 0.150360\n"
     ]
    }
   ],
   "source": [
    "#get training and test error for the best NN model from CV\n",
    "\n",
    "best_mlp_large = mlp_large_cv.best_estimator_\n",
    "\n",
    "training_error = 1. - best_mlp_large.score(X_train, y_train)\n",
    "\n",
    "test_error = 1. - best_mlp_large.score(X_test, y_test)\n",
    "\n",
    "print ('RESULTS FOR BEST NN\\n')\n",
    "\n",
    "print (\"Best NN training error: %f\" % training_error)\n",
    "print (\"Best NN test error: %f\" % test_error)"
   ]
  },
  {
   "cell_type": "markdown",
   "metadata": {},
   "source": [
    "## TO DO 7\n",
    "\n",
    "Compare the train and test error you got with a large number of samples with the best one you obtained with only 500 data points. Are the architectures the same or do they differ? What about the errors you get?"
   ]
  },
  {
   "cell_type": "markdown",
   "metadata": {},
   "source": [
    "\n",
    "|                | 500 samples  | 10000 samples |\n",
    "|----------------|--------------|---------------|\n",
    "| training error | 0.108000     | 0.011900      |\n",
    "| test error     | 0.280185     | 0.150360      |\n",
    "\n",
    "The architectures in the two cases are the same. By looking at the errors I can see that by using more samples I obtain better results, both for training and test error. For what concern the training errors I can see that the second model \"has learnt more\" and by looking at the test errors I can conclude that the architecture trained with more samples is better in predicting new data."
   ]
  },
  {
   "cell_type": "markdown",
   "metadata": {},
   "source": [
    "## TO DO 8\n",
    "\n",
    "Plot an image that was missclassified by NN with m=500 training data points and it is now instead correctly classified by NN with m=10000 training data points."
   ]
  },
  {
   "cell_type": "code",
   "execution_count": 46,
   "metadata": {},
   "outputs": [
    {
     "name": "stdout",
     "output_type": "stream",
     "text": [
      "INPUT:\n"
     ]
    },
    {
     "data": {
      "image/png": "[encoded data removed]",
      "text/plain": [
       "<Figure size 432x288 with 1 Axes>"
      ]
     },
     "metadata": {
      "needs_background": "light"
     },
     "output_type": "display_data"
    },
    {
     "name": "stdout",
     "output_type": "stream",
     "text": [
      "LABEL: 1\n",
      "mlp prediction:  0\n"
     ]
    }
   ],
   "source": [
    "prediction_mlp = mlp.predict(X_test)\n",
    "misclassified_index_mlp = (np.where(y_test != prediction_mlp))[0]\n",
    "prediction_mlp_large = best_mlp_large.predict(X_test)\n",
    "for i in misclassified_index_mlp:\n",
    "    if(prediction_mlp_large[i] == y_test[i]):\n",
    "        plot_input(X_test, y_test, i)\n",
    "        print(\"mlp prediction: \", prediction_mlp[i])\n",
    "        break"
   ]
  },
  {
   "cell_type": "markdown",
   "metadata": {},
   "source": [
    "Let's plot some of the weigths of the multi-layer perceptron classifier, for the best NN we get with 500 data points and with 10000 data points. The code below plots the weights in a matrix form, where a figure represents all the weights of the edges entering in a hidden node. Notice that the code assumes that the NNs are called \"mlp\" and \"best_mlp_large\": you may need to replace such variables with your variable names. \n",
    "\n"
   ]
  },
  {
   "cell_type": "code",
   "execution_count": 47,
   "metadata": {},
   "outputs": [
    {
     "name": "stdout",
     "output_type": "stream",
     "text": [
      "Weights with 500 data points:\n"
     ]
    },
    {
     "data": {
      "image/png": "[encoded data removed]",
      "text/plain": [
       "<Figure size 432x288 with 16 Axes>"
      ]
     },
     "metadata": {},
     "output_type": "display_data"
    },
    {
     "name": "stdout",
     "output_type": "stream",
     "text": [
      "Weights with 10000 data points:\n"
     ]
    },
    {
     "data": {
      "image/png": "[encoded data removed]",
      "text/plain": [
       "<Figure size 432x288 with 16 Axes>"
      ]
     },
     "metadata": {},
     "output_type": "display_data"
    }
   ],
   "source": [
    "print(\"Weights with 500 data points:\")\n",
    "\n",
    "fig, axes = plt.subplots(4, 4)\n",
    "vmin, vmax = mlp.coefs_[0].min(), mlp.coefs_[0].max()\n",
    "for coef, ax in zip(mlp.coefs_[0].T, axes.ravel()):\n",
    "    ax.matshow(coef.reshape(28, 28), cmap=plt.cm.gray, vmin=.5 * vmin, vmax=.5 * vmax)\n",
    "    ax.set_xticks(())\n",
    "    ax.set_yticks(())\n",
    "\n",
    "plt.show()\n",
    "\n",
    "print(\"Weights with 10000 data points:\")\n",
    "\n",
    "fig, axes = plt.subplots(4, 4)\n",
    "vmin, vmax = best_mlp_large.coefs_[0].min(), best_mlp_large.coefs_[0].max()\n",
    "for coef, ax in zip(best_mlp_large.coefs_[0].T, axes.ravel()):\n",
    "    ax.matshow(coef.reshape(28, 28), cmap=plt.cm.gray, vmin=.5 * vmin, vmax=.5 * vmax)\n",
    "    ax.set_xticks(())\n",
    "    ax.set_yticks(())\n",
    "plt.show()"
   ]
  },
  {
   "cell_type": "markdown",
   "metadata": {},
   "source": [
    "## TO DO 9\n",
    "\n",
    "Describe what do you observe by looking at the weights.\n",
    "\n",
    "I can see that in the case of 10000 samples the weights look quite similar to the images of the types of clothing, instead in the other one they look very different to the human eye."
   ]
  },
  {
   "cell_type": "markdown",
   "metadata": {},
   "source": [
    "## TO DO 10\n",
    "\n",
    "Pick another classifier among the ones we have seen previously (SVM or something else). Report the training and test error for such classifier with 10000 samples in the training set, if possible; if the classifier cannot run with so many data sample reduce the number of samples.\n",
    "\n",
    "*Note*: if there are parameters to be optimized use cross-validation. If you choose SVM, you can decide if you want to use a single kernel or use the best among many; in the latter case, you need to pick the best kernel using cross-validation (using the functions available in sklearn).\n",
    "\n",
    "**[WRITE HERE WHAT CLASSIFIER YOU ARE CHOOSING AND WHAT PARAMETERS YOU NEED TO SET.]**\n",
    "\n",
    "I've chosen SVM with rbf kernel, and I use 5-fold cross validation to select the best parameters."
   ]
  },
  {
   "cell_type": "code",
   "execution_count": 48,
   "metadata": {},
   "outputs": [
    {
     "name": "stdout",
     "output_type": "stream",
     "text": [
      "RESULTS FOR SVM\n",
      "\n",
      "Best parameters set found:\n",
      "{'C': 10, 'gamma': 0.01}\n",
      "Score with best parameters:\n",
      "0.8713\n",
      "RESULTS FOR OTHER CLASSIFIER\n",
      "\n",
      "Best training error (other model): 0.018000\n",
      "Best test error (other model): 0.122920\n"
     ]
    }
   ],
   "source": [
    "from sklearn.svm import SVC\n",
    "parameters = {'C': [1, 10, 100],'gamma':[0.01,0.1,1.]}\n",
    "rbf_SVM = SVC(kernel='rbf')\n",
    "SVM_cv = GridSearchCV(rbf_SVM, parameters, n_jobs=-1)\n",
    "SVM_cv.fit(X_train, y_train)\n",
    "print ('RESULTS FOR SVM\\n')\n",
    "print(\"Best parameters set found:\")\n",
    "print(SVM_cv.best_params_)\n",
    "print(\"Score with best parameters:\")\n",
    "print(SVM_cv.best_score_)\n",
    "SVM = SVM_cv.best_estimator_\n",
    "\n",
    "training_error_other = 1. - SVM.score(X_train, y_train)\n",
    "\n",
    "test_error_other = 1. - SVM.score(X_test, y_test)\n",
    "\n",
    "print ('RESULTS FOR OTHER CLASSIFIER\\n')\n",
    "\n",
    "print (\"Best training error (other model): %f\" % training_error_other)\n",
    "print (\"Best test error (other model): %f\" % test_error_other)"
   ]
  },
  {
   "cell_type": "markdown",
   "metadata": {},
   "source": [
    "## TO DO 11\n",
    "Compare the results of NN and of the other classifier you have chosen above. Which classifier would you preferer? Provide a brief explanation."
   ]
  },
  {
   "cell_type": "markdown",
   "metadata": {},
   "source": [
    "In the following table I compare the results of NN trained with 10000 samples.\n",
    "\n",
    "|                | NN       | SVM      |\n",
    "|----------------|----------|----------|\n",
    "| training error | 0.011900 | 0.018000 |\n",
    "| test error     | 0.150360 | 0.122920 |\n",
    "\n",
    "The training errors of the NN and the SVM are very similar. By looking at the test errors I can see that the second model is better in generalization, but in the other hand, it requires more time for training and predicting new data. To conclude, by looking only at these errors I prefer the SVM model but I think that in many cases the difference between the time required by the two models is more important than the difference between their test error even because the latter is not very high."
   ]
  },
  {
   "cell_type": "markdown",
   "metadata": {},
   "source": [
    "# Clustering with K-means\n",
    "\n",
    "Clustering is a useful technique for *unsupervised* learning. We are now going to cluster 2000 images in the fashion MNIST dataset, and try to understand if the clusters we obtain correspond to the true labels."
   ]
  },
  {
   "cell_type": "code",
   "execution_count": 49,
   "metadata": {},
   "outputs": [],
   "source": [
    "#load the required packages\n",
    "\n",
    "from sklearn import metrics\n",
    "from sklearn.cluster import KMeans"
   ]
  },
  {
   "cell_type": "markdown",
   "metadata": {},
   "source": [
    "(Note that the code below assumes that the data has already been transformed as in the NN part of the notebook, so make sure to run the code for the transformation even if you do not complete the part on NN.)"
   ]
  },
  {
   "cell_type": "code",
   "execution_count": 50,
   "metadata": {},
   "outputs": [],
   "source": [
    "#let's consider only 2000 data points\n",
    "\n",
    "X = X[permutation]\n",
    "y = y[permutation]\n",
    "\n",
    "m_training = 2000\n",
    "\n",
    "X_train, X_test = X[:m_training], X[m_training:]\n",
    "y_train, y_test = y[:m_training], y[m_training:]"
   ]
  },
  {
   "cell_type": "markdown",
   "metadata": {},
   "source": [
    "## TO DO 12\n",
    "Cluster the points using the KMeans() and fit() functions (see the userguide for details). For Kmeans, set: n_clusters=10 as number of clusters; n_init=10 as the number of times the algorithm will be run with different centroid seeds; random_state = ID. You can use the default setting for the other parameters."
   ]
  },
  {
   "cell_type": "code",
   "execution_count": 51,
   "metadata": {},
   "outputs": [
    {
     "data": {
      "text/plain": [
       "KMeans(n_clusters=10, random_state=2092073)"
      ]
     },
     "execution_count": 51,
     "metadata": {},
     "output_type": "execute_result"
    }
   ],
   "source": [
    "kmeans = KMeans(n_clusters=10, n_init=10, random_state=ID)\n",
    "\n",
    "kmeans.fit(X_train)"
   ]
  },
  {
   "cell_type": "markdown",
   "metadata": {},
   "source": [
    "## Comparison of clusters with true labels"
   ]
  },
  {
   "cell_type": "markdown",
   "metadata": {},
   "source": [
    "## TO DO 13\n",
    "Now compare the obtained clusters with the true labels, using the function sklearn.metrics.cluster.contingency_matrix() (see the userguide for details). The function prints a matrix $A$ such that entry $A_{i,j}$ is is the number of samples in true class $i$ and in predicted class $j$."
   ]
  },
  {
   "cell_type": "code",
   "execution_count": 52,
   "metadata": {},
   "outputs": [
    {
     "name": "stdout",
     "output_type": "stream",
     "text": [
      "[[  23 3373    2   21 1626    0  170  207    0  380]\n",
      " [   0  231    0    3  134    0   61 5279    0  104]\n",
      " [  24  115    1   20 1832    1 3468   10    0  333]\n",
      " [   5 1585    0    2  592    0   51 3224    1  336]\n",
      " [  26  842    0   13 1078    0 3538  151    0  156]\n",
      " [   8    2 1295    4   48  239    0    1  434 3771]\n",
      " [  15 1055    8   51 2108    1 1939   68    0  541]\n",
      " [   0    0 4473    2    0   26    0    0  794  525]\n",
      " [2269   30  195 2028  461    7  287   32   69  395]\n",
      " [   0    2  147    3   37 2666    1    3 2774  168]]\n"
     ]
    }
   ],
   "source": [
    "# compute and print the contingency matrix for the true labels vs the clustering assignments\n",
    "\n",
    "prediction = kmeans.predict(X_test)\n",
    "contingency_matrix = metrics.cluster.contingency_matrix(y_test, prediction)\n",
    "\n",
    "print(contingency_matrix)"
   ]
  },
  {
   "cell_type": "markdown",
   "metadata": {},
   "source": [
    "## TO DO 14\n",
    "Based on the matrix shown above, comment on the results of clustering in terms of adherence to the true labels.\n",
    "\n",
    "Since in the matrix for example the value of $A_{i,j}$ is the number of samples in true class i and in predicted class j, the elements in the diagonal of the matrix are the number of samples correctly classified.\n",
    "By looking at the diagonal, I can see that the performance is not very good, for example the true label 7 is never predicted correctly but in general a lot of samples are predicted wrong."
   ]
  },
  {
   "cell_type": "markdown",
   "metadata": {},
   "source": [
    "## Choice of k with silhoutte coefficient\n",
    "In many real applications it is unclear what is the correct value of $k$ to use. In practice one tries different values of $k$ and then uses some external score to choose a value of $k$. One such score is the silhoutte coefficient, that can be computed with metrics.silhouette_score(). See the definition of the silhoutte coefficient in the userguide."
   ]
  },
  {
   "cell_type": "markdown",
   "metadata": {},
   "source": [
    "## TO DO 15\n",
    "Compute the clustering for k=2,3,...,15 (other parameters as above) and print the silhoutte coefficient for each such clustering."
   ]
  },
  {
   "cell_type": "code",
   "execution_count": 53,
   "metadata": {},
   "outputs": [
    {
     "name": "stdout",
     "output_type": "stream",
     "text": [
      "Silhoutte coefficient for number of clusters=2: 0.19120649721863053\n",
      "Silhoutte coefficient for number of clusters=3: 0.19072059502332916\n",
      "Silhoutte coefficient for number of clusters=4: 0.1805929825695473\n",
      "Silhoutte coefficient for number of clusters=5: 0.16557590248931178\n",
      "Silhoutte coefficient for number of clusters=6: 0.15553399068672277\n",
      "Silhoutte coefficient for number of clusters=7: 0.15958453267347383\n",
      "Silhoutte coefficient for number of clusters=8: 0.1631572501414511\n",
      "Silhoutte coefficient for number of clusters=9: 0.15800333509385764\n",
      "Silhoutte coefficient for number of clusters=10: 0.15503743454657992\n",
      "Silhoutte coefficient for number of clusters=11: 0.14245908482188577\n",
      "Silhoutte coefficient for number of clusters=12: 0.14094287050756976\n",
      "Silhoutte coefficient for number of clusters=13: 0.1363126096780108\n",
      "Silhoutte coefficient for number of clusters=14: 0.13072822490984937\n",
      "Silhoutte coefficient for number of clusters=15: 0.13202912386086707\n"
     ]
    }
   ],
   "source": [
    "#run k-means with 10 choices of initial centroids for a range of values of n_clusters\n",
    "\n",
    "list_of_silhouttes = []\n",
    "for i in range(2,16):\n",
    "    kmeans = KMeans(n_clusters=i, n_init=10, random_state=ID)\n",
    "    kmeans.fit(X_train)\n",
    "    silhouttescore = metrics.silhouette_score(X_train, kmeans.labels_)\n",
    "    list_of_silhouttes.append(silhouttescore)\n",
    "    print(\"Silhoutte coefficient for number of clusters=\"+str(i)+\": \"+str(silhouttescore))"
   ]
  },
  {
   "cell_type": "markdown",
   "metadata": {},
   "source": [
    "Let us now plot how the silhouette coefficients change with respect to k."
   ]
  },
  {
   "cell_type": "code",
   "execution_count": 54,
   "metadata": {},
   "outputs": [
    {
     "data": {
      "text/plain": [
       "Text(0.5, 1.0, 'Silhouette score per number of clusters')"
      ]
     },
     "execution_count": 54,
     "metadata": {},
     "output_type": "execute_result"
    },
    {
     "data": {
      "image/png": "[encoded data removed]",
      "text/plain": [
       "<Figure size 432x288 with 1 Axes>"
      ]
     },
     "metadata": {
      "needs_background": "light"
     },
     "output_type": "display_data"
    }
   ],
   "source": [
    "plt.plot([i for i in range(2,16)],list_of_silhouttes, \"o-\")\n",
    "plt.gca().set_ylim(bottom=0)\n",
    "plt.title(\"Silhouette score per number of clusters\")"
   ]
  },
  {
   "cell_type": "markdown",
   "metadata": {},
   "source": [
    "## TO DO 16\n",
    "\n",
    "Based on the silhoutte score, which $k$ would you pick? Motivate your choice. Does your choice match what you know about the data? If yes, explain why you think this is the case; if no, explain what you think may be the reason."
   ]
  },
  {
   "cell_type": "markdown",
   "metadata": {},
   "source": [
    "\n",
    "The value of the silhouette coefﬁcient is between [-1, 1]. A value near +1 indicate that the sample is far away from the neighboring clusters. A value of 0 indicates that the sample is on or very close to the decision boundary between two neighboring clusters, and negative values indicate that those samples might have been assigned to the wrong cluster. Therefore, I pick the k that corresponds to the silhouette coefficient nearest to the value +1, i.e. k=2. This choice does not match what I know about the data since the dataset is composed of samples that belong 10 different classes. This could be due to the fact that images of different classes may overlap, and if I choose k equal to the number of classes, some clusters are well-separated from the others, while some others may be touching."
   ]
  },
  {
   "cell_type": "code",
   "execution_count": null,
   "metadata": {},
   "outputs": [],
   "source": []
  }
 ],
 "metadata": {
  "kernelspec": {
   "display_name": "Python 3 (ipykernel)",
   "language": "python",
   "name": "python3"
  },
  "language_info": {
   "codemirror_mode": {
    "name": "ipython",
    "version": 3
   },
   "file_extension": ".py",
   "mimetype": "text/x-python",
   "name": "python",
   "nbconvert_exporter": "python",
   "pygments_lexer": "ipython3",
   "version": "3.9.12"
  }
 },
 "nbformat": 4,
 "nbformat_minor": 4
}
