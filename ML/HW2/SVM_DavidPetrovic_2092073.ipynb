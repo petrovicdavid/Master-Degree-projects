{
 "cells": [
  {
   "cell_type": "markdown",
   "metadata": {},
   "source": [
    "# SVM for classification, without and with kernels\n",
    "\n",
    "In this notebook we are going to explore the use of Support Vector Machines (SVMs) for image classification. We are going to use the famous MNIST dataset, that is a dataset of handwritten digits. We get the data from mldata.org, that is a public repository for machine learning data.\n",
    "\n",
    "The dataset consists of 70,000 images of handwritten digits (i.e., 0, 1, ... 9). Each image is 28 pixels by 28 pixels and we can think of it as a vector of 28x28 = 784 numbers. Each number is an integer between 0 and 255. For each image we have the corresponding label (i.e., 0, 1, ..., 9)."
   ]
  },
  {
   "cell_type": "code",
   "execution_count": 55,
   "metadata": {},
   "outputs": [],
   "source": [
    "#load the required packages\n",
    "\n",
    "%matplotlib inline  \n",
    "\n",
    "import numpy as np\n",
    "import matplotlib.pyplot as plt\n",
    "\n",
    "import sklearn\n",
    "from sklearn.datasets import fetch_openml"
   ]
  },
  {
   "cell_type": "code",
   "execution_count": 56,
   "metadata": {},
   "outputs": [],
   "source": [
    "#fix your ID (\"numero di matricola\") and the seed for random generator\n",
    "ID = 2092073\n",
    "np.random.seed(ID)"
   ]
  },
  {
   "cell_type": "markdown",
   "metadata": {},
   "source": [
    "Now let's load the dataset. 'data' contains the input, 'target' contains the label. We normalize the data by dividing each value by 255 so that each value is in [0,1]"
   ]
  },
  {
   "cell_type": "code",
   "execution_count": 57,
   "metadata": {},
   "outputs": [],
   "source": [
    "#load the MNIST dataset and let's normalize the features so that each value is in [0,1]\n",
    "mnist = fetch_openml('mnist_784', version=1)\n",
    "# rescale the data\n",
    "X, y = mnist.data.values / 255., mnist.target.values"
   ]
  },
  {
   "cell_type": "markdown",
   "metadata": {},
   "source": [
    "Now split into training and test. We keep 500 samples in the training set. Make sure that each label is present at least 10 times\n",
    "in training. If it is not, then keep adding permutations to the initial data until this \n",
    "happens.\n",
    "\n",
    "**IMPORTANT**: if you cannot run the SVM with 500 samples or 1000 samples (see below), try with a smaller number of samples (e.g. 200 here and 400 below)."
   ]
  },
  {
   "cell_type": "code",
   "execution_count": 58,
   "metadata": {},
   "outputs": [
    {
     "name": "stdout",
     "output_type": "stream",
     "text": [
      "Labels and frequencies in training dataset: \n"
     ]
    },
    {
     "data": {
      "text/plain": [
       "(array(['0', '1', '2', '3', '4', '5', '6', '7', '8', '9'], dtype=object),\n",
       " array([50, 49, 52, 41, 47, 42, 66, 54, 52, 47], dtype=int64))"
      ]
     },
     "execution_count": 58,
     "metadata": {},
     "output_type": "execute_result"
    }
   ],
   "source": [
    "#random permute the data and split into training and test taking the first 500\n",
    "#data samples as training and the rests as test\n",
    "permutation = np.random.permutation(X.shape[0])\n",
    "\n",
    "X = X[permutation]\n",
    "y = y[permutation]\n",
    " \n",
    "m_training = 500\n",
    "\n",
    "X_train, X_test = X[:m_training], X[m_training:]\n",
    "y_train, y_test = y[:m_training], y[m_training:]\n",
    "\n",
    "print(\"Labels and frequencies in training dataset: \")\n",
    "np.unique(y_train, return_counts = True)"
   ]
  },
  {
   "cell_type": "markdown",
   "metadata": {},
   "source": [
    "We now provide a function to print an image in the dataset and the corresponding true label given the index of the image in the dataset."
   ]
  },
  {
   "cell_type": "code",
   "execution_count": 59,
   "metadata": {},
   "outputs": [],
   "source": [
    "#function for plotting a digit and printing the corresponding labe\n",
    "def plot_digit(X_matrix, labels, index):\n",
    "    print(\"INPUT:\")\n",
    "    plt.imshow(\n",
    "        X_matrix[index].reshape(28,28),\n",
    "        cmap          = plt.cm.gray_r,\n",
    "        interpolation = \"nearest\"\n",
    "    )\n",
    "    plt.show()\n",
    "    print(\"LABEL: %s\" % labels[index])\n",
    "    return"
   ]
  },
  {
   "cell_type": "markdown",
   "metadata": {},
   "source": [
    "As an example, let's print the 100-th image in X_train and the 40,000-th image in X_test and their true labels."
   ]
  },
  {
   "cell_type": "code",
   "execution_count": 60,
   "metadata": {},
   "outputs": [
    {
     "name": "stdout",
     "output_type": "stream",
     "text": [
      "INPUT:\n"
     ]
    },
    {
     "data": {
      "image/png": "[encoded data removed]",
      "text/plain": [
       "<Figure size 432x288 with 1 Axes>"
      ]
     },
     "metadata": {
      "needs_background": "light"
     },
     "output_type": "display_data"
    },
    {
     "name": "stdout",
     "output_type": "stream",
     "text": [
      "LABEL: 4\n",
      "INPUT:\n"
     ]
    },
    {
     "data": {
      "image/png": "[encoded data removed]",
      "text/plain": [
       "<Figure size 432x288 with 1 Axes>"
      ]
     },
     "metadata": {
      "needs_background": "light"
     },
     "output_type": "display_data"
    },
    {
     "name": "stdout",
     "output_type": "stream",
     "text": [
      "LABEL: 5\n"
     ]
    }
   ],
   "source": [
    "#let's try the plotting function\n",
    "plot_digit(X_train,y_train,100)\n",
    "plot_digit(X_test,y_test,40000)"
   ]
  },
  {
   "cell_type": "markdown",
   "metadata": {},
   "source": [
    "## TO DO 1\n",
    "Run SVM with 5-fold cross validation to pick the best kernel and values of parameters. We provide some potential choice for parameters, but change the grid if needed (e.g., it takes too long). For the SVM for classification use SVC from sklearn.svm; for the grid search we suggest you use GridSearchCV from sklearn.model_selection, but you can implement your own cross-validation for model selection if you prefer.\n",
    "\n",
    "Finally, print the best parameters used as well as the score obtained by the best model"
   ]
  },
  {
   "cell_type": "code",
   "execution_count": 61,
   "metadata": {
    "scrolled": false
   },
   "outputs": [
    {
     "name": "stdout",
     "output_type": "stream",
     "text": [
      "RESULTS FOR LINEAR KERNEL\n",
      "\n",
      "Best parameters set found:\n",
      "{'C': 1}\n",
      "Score with best parameters:\n",
      "0.8899999999999999\n",
      "\n",
      "All scores on the grid:\n",
      "{'mean_fit_time': array([0.03125033, 0.02812452, 0.03437629]), 'std_fit_time': array([2.36311182e-06, 6.24952340e-03, 6.24923706e-03]), 'mean_score_time': array([0.01562481, 0.01249948, 0.01250076]), 'std_score_time': array([1.71528871e-06, 6.24973786e-03, 6.25038147e-03]), 'param_C': masked_array(data=[1, 10, 100],\n",
      "             mask=[False, False, False],\n",
      "       fill_value='?',\n",
      "            dtype=object), 'params': [{'C': 1}, {'C': 10}, {'C': 100}], 'split0_test_score': array([0.9, 0.9, 0.9]), 'split1_test_score': array([0.85, 0.85, 0.85]), 'split2_test_score': array([0.9, 0.9, 0.9]), 'split3_test_score': array([0.86, 0.86, 0.86]), 'split4_test_score': array([0.94, 0.94, 0.94]), 'mean_test_score': array([0.89, 0.89, 0.89]), 'std_test_score': array([0.03224903, 0.03224903, 0.03224903]), 'rank_test_score': array([1, 1, 1])}\n",
      "\n",
      "RESULTS FOR POLY DEGREE=2 KERNEL\n",
      "\n",
      "Best parameters set found:\n",
      "{'C': 1, 'gamma': 0.1}\n",
      "Score with best parameters:\n",
      "0.9019999999999999\n",
      "\n",
      "All scores on the grid:\n",
      "{'mean_fit_time': array([0.05312653, 0.04687419, 0.04062347, 0.05013757, 0.05342684,\n",
      "       0.04744439, 0.04256768, 0.04536414, 0.04375076]), 'std_fit_time': array([0.01250067, 0.00988182, 0.00765399, 0.00618428, 0.01630618,\n",
      "       0.01102942, 0.01068735, 0.0030216 , 0.00625014]), 'mean_score_time': array([0.01250362, 0.01562805, 0.01562634, 0.00945024, 0.00785074,\n",
      "       0.00782166, 0.0109899 , 0.00937538, 0.009376  ]), 'std_score_time': array([6.25181198e-03, 1.88576888e-06, 6.67572021e-07, 5.82736063e-03,\n",
      "       6.98891133e-03, 8.41383668e-03, 6.22549290e-03, 7.65496697e-03,\n",
      "       7.65547305e-03]), 'param_C': masked_array(data=[1, 1, 1, 10, 10, 10, 100, 100, 100],\n",
      "             mask=[False, False, False, False, False, False, False, False,\n",
      "                   False],\n",
      "       fill_value='?',\n",
      "            dtype=object), 'param_gamma': masked_array(data=[0.01, 0.1, 1.0, 0.01, 0.1, 1.0, 0.01, 0.1, 1.0],\n",
      "             mask=[False, False, False, False, False, False, False, False,\n",
      "                   False],\n",
      "       fill_value='?',\n",
      "            dtype=object), 'params': [{'C': 1, 'gamma': 0.01}, {'C': 1, 'gamma': 0.1}, {'C': 1, 'gamma': 1.0}, {'C': 10, 'gamma': 0.01}, {'C': 10, 'gamma': 0.1}, {'C': 10, 'gamma': 1.0}, {'C': 100, 'gamma': 0.01}, {'C': 100, 'gamma': 0.1}, {'C': 100, 'gamma': 1.0}], 'split0_test_score': array([0.86, 0.92, 0.92, 0.92, 0.92, 0.92, 0.92, 0.92, 0.92]), 'split1_test_score': array([0.83, 0.86, 0.86, 0.86, 0.86, 0.86, 0.86, 0.86, 0.86]), 'split2_test_score': array([0.87, 0.89, 0.89, 0.89, 0.89, 0.89, 0.89, 0.89, 0.89]), 'split3_test_score': array([0.88, 0.91, 0.91, 0.91, 0.91, 0.91, 0.91, 0.91, 0.91]), 'split4_test_score': array([0.86, 0.93, 0.93, 0.93, 0.93, 0.93, 0.93, 0.93, 0.93]), 'mean_test_score': array([0.86 , 0.902, 0.902, 0.902, 0.902, 0.902, 0.902, 0.902, 0.902]), 'std_test_score': array([0.0167332 , 0.02481935, 0.02481935, 0.02481935, 0.02481935,\n",
      "       0.02481935, 0.02481935, 0.02481935, 0.02481935]), 'rank_test_score': array([9, 1, 1, 1, 1, 1, 1, 1, 1])}\n",
      "\n",
      "RESULTS FOR rbf KERNEL\n",
      "\n",
      "Best parameters set found:\n",
      "{'C': 10, 'gamma': 0.01}\n",
      "Score with best parameters:\n",
      "0.914\n",
      "\n",
      "All scores on the grid:\n",
      "{'mean_fit_time': array([0.05312924, 0.08673468, 0.07485943, 0.05665822, 0.07746983,\n",
      "       0.0857399 , 0.0573751 , 0.09626565, 0.08335748]), 'std_fit_time': array([0.00765606, 0.01721625, 0.0066797 , 0.00557833, 0.00814119,\n",
      "       0.01425275, 0.00635249, 0.01678063, 0.01659697]), 'mean_score_time': array([0.04062433, 0.04787397, 0.0531004 , 0.03238277, 0.03631473,\n",
      "       0.04770169, 0.03668861, 0.05279922, 0.02720451]), 'std_score_time': array([0.00765606, 0.00418623, 0.01548508, 0.00155471, 0.00631074,\n",
      "       0.00477123, 0.00383355, 0.00639957, 0.01196809]), 'param_C': masked_array(data=[1, 1, 1, 10, 10, 10, 100, 100, 100],\n",
      "             mask=[False, False, False, False, False, False, False, False,\n",
      "                   False],\n",
      "       fill_value='?',\n",
      "            dtype=object), 'param_gamma': masked_array(data=[0.01, 0.1, 1.0, 0.01, 0.1, 1.0, 0.01, 0.1, 1.0],\n",
      "             mask=[False, False, False, False, False, False, False, False,\n",
      "                   False],\n",
      "       fill_value='?',\n",
      "            dtype=object), 'params': [{'C': 1, 'gamma': 0.01}, {'C': 1, 'gamma': 0.1}, {'C': 1, 'gamma': 1.0}, {'C': 10, 'gamma': 0.01}, {'C': 10, 'gamma': 0.1}, {'C': 10, 'gamma': 1.0}, {'C': 100, 'gamma': 0.01}, {'C': 100, 'gamma': 0.1}, {'C': 100, 'gamma': 1.0}], 'split0_test_score': array([0.91, 0.36, 0.13, 0.93, 0.41, 0.13, 0.93, 0.41, 0.13]), 'split1_test_score': array([0.85, 0.34, 0.13, 0.88, 0.38, 0.13, 0.88, 0.38, 0.13]), 'split2_test_score': array([0.88, 0.37, 0.14, 0.9 , 0.44, 0.14, 0.9 , 0.44, 0.14]), 'split3_test_score': array([0.9 , 0.35, 0.13, 0.92, 0.39, 0.13, 0.92, 0.39, 0.13]), 'split4_test_score': array([0.94, 0.3 , 0.13, 0.94, 0.35, 0.13, 0.94, 0.35, 0.13]), 'mean_test_score': array([0.896, 0.344, 0.132, 0.914, 0.394, 0.132, 0.914, 0.394, 0.132]), 'std_test_score': array([0.03006659, 0.02416609, 0.004     , 0.02154066, 0.03006659,\n",
      "       0.004     , 0.02154066, 0.03006659, 0.004     ]), 'rank_test_score': array([3, 6, 7, 1, 4, 7, 1, 4, 7])}\n"
     ]
    }
   ],
   "source": [
    "#import SVC\n",
    "from sklearn.svm import SVC\n",
    "#import for Cross-Validation\n",
    "from sklearn.model_selection import GridSearchCV\n",
    "\n",
    "# parameters for linear SVM\n",
    "parameters = {'C': [1, 10, 100]}\n",
    "\n",
    "#run linear SVM\n",
    "linear_SVM = SVC(kernel='linear')\n",
    "\n",
    "#find best model using 5-fold CV \n",
    "#and train it using all the training data\n",
    "\n",
    "gd1 = GridSearchCV(linear_SVM, parameters, n_jobs=-1)\n",
    "gd1.fit(X_train, y_train)\n",
    "\n",
    "print ('RESULTS FOR LINEAR KERNEL\\n')\n",
    "\n",
    "print(\"Best parameters set found:\")\n",
    "print(gd1.best_params_)\n",
    "\n",
    "print(\"Score with best parameters:\")\n",
    "print(gd1.best_score_)\n",
    "\n",
    "print(\"\\nAll scores on the grid:\")\n",
    "print(gd1.cv_results_)\n",
    "\n",
    "# parameters for poly with degree 2 kernel\n",
    "parameters = {'C': [1, 10, 100],'gamma':[0.01,0.1,1.]}\n",
    "\n",
    "#run SVM with poly of degree 2 kernel\n",
    "poly2_SVM = SVC(kernel='poly',degree=2)\n",
    "\n",
    "# ADD CODE: DO THE SAME AS ABOVE FOR POLYNOMIAL KERNEL WITH DEGREE=2\n",
    "#find best model using 5-fold CV \n",
    "#and train it using all the training data\n",
    "gd2 = GridSearchCV(poly2_SVM, parameters, n_jobs=-1)\n",
    "gd2.fit(X_train, y_train)\n",
    "\n",
    "print ('\\nRESULTS FOR POLY DEGREE=2 KERNEL\\n')\n",
    "\n",
    "print(\"Best parameters set found:\")\n",
    "print(gd2.best_params_)\n",
    "\n",
    "print(\"Score with best parameters:\")\n",
    "print(gd2.best_score_)\n",
    "\n",
    "\n",
    "print(\"\\nAll scores on the grid:\")\n",
    "print(gd2.cv_results_)\n",
    "\n",
    "# parameters for rbf SVM\n",
    "parameters = {'C': [1, 10, 100],'gamma':[0.01,0.1,1.]}\n",
    "\n",
    "#run SVM with rbf kernel\n",
    "rbf_SVM = SVC(kernel='rbf')\n",
    "# ADD CODE: DO THE SAME AS ABOVE FOR RBF KERNEL\n",
    "#find best model using 5-fold CV \n",
    "#and train it using all the training data\n",
    "gd3 = GridSearchCV(rbf_SVM, parameters, n_jobs=-1)\n",
    "gd3.fit(X_train, y_train)\n",
    "\n",
    "print ('\\nRESULTS FOR rbf KERNEL\\n')\n",
    "\n",
    "print(\"Best parameters set found:\")\n",
    "print(gd3.best_params_)\n",
    "\n",
    "print(\"Score with best parameters:\")\n",
    "print(gd3.best_score_)\n",
    "\n",
    "print(\"\\nAll scores on the grid:\")\n",
    "print(gd3.cv_results_)"
   ]
  },
  {
   "cell_type": "markdown",
   "metadata": {},
   "source": [
    "## TO DO 2\n",
    "For the \"best\" SVM kernel and choice of parameters from above, train the model on the entire training set and measure the training error. Also make predictions on the test set and measure the test error. Print the training and the test error."
   ]
  },
  {
   "cell_type": "code",
   "execution_count": 62,
   "metadata": {},
   "outputs": [
    {
     "name": "stdout",
     "output_type": "stream",
     "text": [
      "Best SVM training error: 0.000000\n",
      "Best SVM test error: 0.104619\n"
     ]
    }
   ],
   "source": [
    "#get training and test error for the best SVM model from CV\n",
    "best_SVM = SVC(kernel='rbf',C=10,gamma=0.01) # ADD CODE\n",
    "\n",
    "# fit the model on the entire training set\n",
    "best_SVM.fit(X_train, y_train)\n",
    "\n",
    "#get the training and test error\n",
    "training_error = 1. - best_SVM.score(X_train,y_train)\n",
    "test_error = 1. - best_SVM.score(X_test,y_test)\n",
    "\n",
    "print (\"Best SVM training error: %f\" % training_error)\n",
    "print (\"Best SVM test error: %f\" % test_error)"
   ]
  },
  {
   "cell_type": "markdown",
   "metadata": {},
   "source": [
    "## Use logistic regression for comparison\n",
    "\n",
    "## TO DO 3\n",
    "\n",
    "Just for comparison let's also use logistic regression, first with the default values of the parameter for regularization and then with cross-validation to fix the value of the parameters. For cross validation, use 5-fold cross validation and the default values of the regularization parameters for the function linear_model.LogisticRegressionCV(...).\n",
    "\n",
    "Note: during training you may receive a \"ConvergenceWarning\" that indicates that the logistic regression solver did not converge to the optimal result. Given the scope of the notebook, we can ignore such warning but in real-world scenarios you should take corrective measures such as increasing the number of training iterations and/or the runtime for training or picking a different optimizer"
   ]
  },
  {
   "cell_type": "code",
   "execution_count": 63,
   "metadata": {},
   "outputs": [
    {
     "name": "stderr",
     "output_type": "stream",
     "text": [
      "C:\\Users\\David\\anaconda3\\lib\\site-packages\\sklearn\\linear_model\\_logistic.py:814: ConvergenceWarning: lbfgs failed to converge (status=1):\n",
      "STOP: TOTAL NO. of ITERATIONS REACHED LIMIT.\n",
      "\n",
      "Increase the number of iterations (max_iter) or scale the data as shown in:\n",
      "    https://scikit-learn.org/stable/modules/preprocessing.html\n",
      "Please also refer to the documentation for alternative solver options:\n",
      "    https://scikit-learn.org/stable/modules/linear_model.html#logistic-regression\n",
      "  n_iter_i = _check_optimize_result(\n"
     ]
    },
    {
     "name": "stdout",
     "output_type": "stream",
     "text": [
      "Best logistic regression training error: 0.000000\n",
      "Best logistic regression test error: 0.153928\n",
      "Best logistic regression training error with CV: 0.000000\n",
      "Best logistic regression test error with CV: 0.155554\n"
     ]
    },
    {
     "name": "stderr",
     "output_type": "stream",
     "text": [
      "C:\\Users\\David\\anaconda3\\lib\\site-packages\\sklearn\\linear_model\\_logistic.py:814: ConvergenceWarning: lbfgs failed to converge (status=1):\n",
      "STOP: TOTAL NO. of ITERATIONS REACHED LIMIT.\n",
      "\n",
      "Increase the number of iterations (max_iter) or scale the data as shown in:\n",
      "    https://scikit-learn.org/stable/modules/preprocessing.html\n",
      "Please also refer to the documentation for alternative solver options:\n",
      "    https://scikit-learn.org/stable/modules/linear_model.html#logistic-regression\n",
      "  n_iter_i = _check_optimize_result(\n"
     ]
    }
   ],
   "source": [
    "from sklearn import linear_model\n",
    "\n",
    "lr = linear_model.LogisticRegression()\n",
    "# fit the model on the training data\n",
    "lr.fit(X_train, y_train)\n",
    "\n",
    "#compute training and test error for model above\n",
    "training_error = 1 - lr.score(X_train, y_train)\n",
    "test_error = 1- lr.score(X_test, y_test)\n",
    "\n",
    "print (\"Best logistic regression training error: %f\" % training_error)\n",
    "print (\"Best logistic regression test error: %f\" % test_error)\n",
    "\n",
    "#logistic regression with 5-fold CV: you can use use linear_model.LogisticRegressionCV\n",
    "# use 5-fold CV to find the best choice of the parameter, than train\n",
    "# the model on the entire training set\n",
    "lr_cv = linear_model.LogisticRegressionCV(cv=5, n_jobs=-1).fit(X_train, y_train)\n",
    "training_error_cv = 1 - lr_cv.score(X_train, y_train)\n",
    "test_error_cv = 1 - lr_cv.score(X_test, y_test)\n",
    "\n",
    "print (\"Best logistic regression training error with CV: %f\" % training_error_cv)\n",
    "print (\"Best logistic regression test error with CV: %f\" % test_error_cv)"
   ]
  },
  {
   "cell_type": "markdown",
   "metadata": {},
   "source": [
    "## TO DO 4 \n",
    "Compare and comment the results from SVM and logistic regression.\n",
    "\n",
    "**ANSWER** I have used 5-fold CV to select the best kernel and parameters for SVM by looking at the scores resulted. This implied choosing the rbf kernel with C equal to 10 and gamma to 0.01 as parameters and fit it with all training data. For having a look at the generalization error of this model I have used the test data.\n",
    "\n",
    "Next, I have tried to fit a logistic regression model on the entire training set and then, another one using 5-fold CV to find the best parameter, then I have trained the latter with all training data.\n",
    "\n",
    "\n",
    "The following table represents the results obtained:\n",
    "\n",
    "|                   |  **SVM** | **logistic regression** | **logistic regression CV** |\n",
    "|-------------------|----------|-------------------------|----------------------------|\n",
    "| **Training error**| 0.000000 | 0.000000                | 0.000000                   |\n",
    "| **Test error**    | 0.104619 | 0.153928                | 0.155554                   |\n",
    "\n",
    "\n",
    "As we can see the best result is obtained by the SVM model while logistic regression models are almost identical but the one with the parameter selected using 5-fold CV is slightly worse. In general, this results could be better by using more data for training and maybe the best model will change.\n"
   ]
  },
  {
   "cell_type": "markdown",
   "metadata": {},
   "source": [
    "## TO DO 5\n",
    "Write the code that finds and plots a digit that is missclassified by logistic regression (optimized for the regularization parameter) and correctly classified by the \"best\" SVM."
   ]
  },
  {
   "cell_type": "code",
   "execution_count": 64,
   "metadata": {},
   "outputs": [
    {
     "name": "stdout",
     "output_type": "stream",
     "text": [
      "INPUT:\n"
     ]
    },
    {
     "data": {
      "image/png": "[encoded data removed]",
      "text/plain": [
       "<Figure size 432x288 with 1 Axes>"
      ]
     },
     "metadata": {
      "needs_background": "light"
     },
     "output_type": "display_data"
    },
    {
     "name": "stdout",
     "output_type": "stream",
     "text": [
      "LABEL: 9\n",
      "logistic regression prediction:  4\n"
     ]
    }
   ],
   "source": [
    "prediction_lr = lr_cv.predict(X_test)\n",
    "misclassified_index_lr = (np.where(y_test != prediction_lr))[0]\n",
    "prediction_best = best_SVM.predict(X_test)\n",
    "for i in misclassified_index_lr:\n",
    "    if(prediction_best[i] == y_test[i]):\n",
    "        plot_digit(X_test, y_test, i)\n",
    "        print(\"logistic regression prediction: \", prediction_lr[i])\n",
    "        break"
   ]
  },
  {
   "cell_type": "markdown",
   "metadata": {},
   "source": [
    "## More data\n",
    "Now let's do the same but using 1000 data points for training. \n",
    "\n",
    "## TO DO 6\n",
    "Repeat the entire analysis above using 1000 samples. Of course you can copy the code from above (but no need to copy markdown comments)."
   ]
  },
  {
   "cell_type": "code",
   "execution_count": 65,
   "metadata": {},
   "outputs": [
    {
     "name": "stdout",
     "output_type": "stream",
     "text": [
      "Labels and frequencies in training dataset: \n"
     ]
    },
    {
     "data": {
      "text/plain": [
       "(array(['0', '1', '2', '3', '4', '5', '6', '7', '8', '9'], dtype=object),\n",
       " array([ 95, 100, 106, 101,  91,  81, 121, 115,  93,  97], dtype=int64))"
      ]
     },
     "execution_count": 65,
     "metadata": {},
     "output_type": "execute_result"
    }
   ],
   "source": [
    "m_training = 1000\n",
    "X_train, X_test = X[:m_training], X[m_training:]\n",
    "y_train, y_test = y[:m_training], y[m_training:]\n",
    "print(\"Labels and frequencies in training dataset: \")\n",
    "np.unique(y_train, return_counts = True)\n"
   ]
  },
  {
   "cell_type": "code",
   "execution_count": 66,
   "metadata": {},
   "outputs": [
    {
     "name": "stdout",
     "output_type": "stream",
     "text": [
      "RESULTS FOR LINEAR KERNEL\n",
      "\n",
      "Best parameters set found:\n",
      "{'C': 1}\n",
      "Score with best parameters:\n",
      "0.883\n",
      "\n",
      "All scores on the grid:\n",
      "{'mean_fit_time': array([0.15240374, 0.14580231, 0.12780232]), 'std_fit_time': array([0.00816372, 0.01278518, 0.01312103]), 'mean_score_time': array([0.07640643, 0.07779856, 0.05859675]), 'std_score_time': array([0.00426985, 0.00793266, 0.0048829 ]), 'param_C': masked_array(data=[1, 10, 100],\n",
      "             mask=[False, False, False],\n",
      "       fill_value='?',\n",
      "            dtype=object), 'params': [{'C': 1}, {'C': 10}, {'C': 100}], 'split0_test_score': array([0.885, 0.885, 0.885]), 'split1_test_score': array([0.93, 0.93, 0.93]), 'split2_test_score': array([0.88, 0.88, 0.88]), 'split3_test_score': array([0.87, 0.87, 0.87]), 'split4_test_score': array([0.85, 0.85, 0.85]), 'mean_test_score': array([0.883, 0.883, 0.883]), 'std_test_score': array([0.02638181, 0.02638181, 0.02638181]), 'rank_test_score': array([1, 1, 1])}\n",
      "\n",
      "RESULTS FOR POLY DEGREE=2 KERNEL\n",
      "\n",
      "Best parameters set found:\n",
      "{'C': 1, 'gamma': 0.1}\n",
      "Score with best parameters:\n",
      "0.907\n",
      "\n",
      "All scores on the grid:\n",
      "{'mean_fit_time': array([0.20520496, 0.16640015, 0.16479988, 0.16780148, 0.1656014 ,\n",
      "       0.17400107, 0.18680077, 0.20420051, 0.16820374]), 'std_fit_time': array([0.00231432, 0.00625019, 0.00970432, 0.00936962, 0.0151613 ,\n",
      "       0.00969503, 0.01816938, 0.01251246, 0.0263198 ]), 'mean_score_time': array([0.07579727, 0.05540309, 0.0576005 , 0.0521987 , 0.04759874,\n",
      "       0.05019879, 0.06159968, 0.06700048, 0.03399673]), 'std_score_time': array([0.00661516, 0.00484064, 0.00730916, 0.00570488, 0.00608621,\n",
      "       0.00611164, 0.01379314, 0.01438054, 0.00583385]), 'param_C': masked_array(data=[1, 1, 1, 10, 10, 10, 100, 100, 100],\n",
      "             mask=[False, False, False, False, False, False, False, False,\n",
      "                   False],\n",
      "       fill_value='?',\n",
      "            dtype=object), 'param_gamma': masked_array(data=[0.01, 0.1, 1.0, 0.01, 0.1, 1.0, 0.01, 0.1, 1.0],\n",
      "             mask=[False, False, False, False, False, False, False, False,\n",
      "                   False],\n",
      "       fill_value='?',\n",
      "            dtype=object), 'params': [{'C': 1, 'gamma': 0.01}, {'C': 1, 'gamma': 0.1}, {'C': 1, 'gamma': 1.0}, {'C': 10, 'gamma': 0.01}, {'C': 10, 'gamma': 0.1}, {'C': 10, 'gamma': 1.0}, {'C': 100, 'gamma': 0.01}, {'C': 100, 'gamma': 0.1}, {'C': 100, 'gamma': 1.0}], 'split0_test_score': array([0.865, 0.905, 0.905, 0.9  , 0.905, 0.905, 0.905, 0.905, 0.905]), 'split1_test_score': array([0.905, 0.92 , 0.92 , 0.92 , 0.92 , 0.92 , 0.92 , 0.92 , 0.92 ]), 'split2_test_score': array([0.9  , 0.91 , 0.91 , 0.905, 0.91 , 0.91 , 0.91 , 0.91 , 0.91 ]), 'split3_test_score': array([0.875, 0.9  , 0.9  , 0.9  , 0.9  , 0.9  , 0.9  , 0.9  , 0.9  ]), 'split4_test_score': array([0.86, 0.9 , 0.9 , 0.9 , 0.9 , 0.9 , 0.9 , 0.9 , 0.9 ]), 'mean_test_score': array([0.881, 0.907, 0.907, 0.905, 0.907, 0.907, 0.907, 0.907, 0.907]), 'std_test_score': array([0.01827567, 0.00748331, 0.00748331, 0.00774597, 0.00748331,\n",
      "       0.00748331, 0.00748331, 0.00748331, 0.00748331]), 'rank_test_score': array([9, 1, 1, 8, 1, 1, 1, 1, 1])}\n",
      "\n",
      "RESULTS FOR rbf KERNEL\n",
      "\n",
      "Best parameters set found:\n",
      "{'C': 10, 'gamma': 0.01}\n",
      "Score with best parameters:\n",
      "0.9099999999999999\n",
      "\n",
      "All scores on the grid:\n",
      "{'mean_fit_time': array([0.24540215, 0.44786148, 0.45591431, 0.21689987, 0.47519507,\n",
      "       0.48639965, 0.20479898, 0.48799706, 0.47606182]), 'std_fit_time': array([0.0079154 , 0.02588412, 0.05162003, 0.00949243, 0.01300522,\n",
      "       0.02835214, 0.01647306, 0.05233629, 0.07256567]), 'mean_score_time': array([0.17020044, 0.21347508, 0.21536946, 0.16860251, 0.20960684,\n",
      "       0.20480204, 0.16959953, 0.2014935 , 0.1553896 ]), 'std_score_time': array([0.00457766, 0.02069279, 0.02497324, 0.00521275, 0.01176146,\n",
      "       0.01394609, 0.02340579, 0.01801854, 0.0602504 ]), 'param_C': masked_array(data=[1, 1, 1, 10, 10, 10, 100, 100, 100],\n",
      "             mask=[False, False, False, False, False, False, False, False,\n",
      "                   False],\n",
      "       fill_value='?',\n",
      "            dtype=object), 'param_gamma': masked_array(data=[0.01, 0.1, 1.0, 0.01, 0.1, 1.0, 0.01, 0.1, 1.0],\n",
      "             mask=[False, False, False, False, False, False, False, False,\n",
      "                   False],\n",
      "       fill_value='?',\n",
      "            dtype=object), 'params': [{'C': 1, 'gamma': 0.01}, {'C': 1, 'gamma': 0.1}, {'C': 1, 'gamma': 1.0}, {'C': 10, 'gamma': 0.01}, {'C': 10, 'gamma': 0.1}, {'C': 10, 'gamma': 1.0}, {'C': 100, 'gamma': 0.01}, {'C': 100, 'gamma': 0.1}, {'C': 100, 'gamma': 1.0}], 'split0_test_score': array([0.89 , 0.61 , 0.12 , 0.91 , 0.635, 0.12 , 0.91 , 0.635, 0.12 ]), 'split1_test_score': array([0.925, 0.665, 0.12 , 0.925, 0.705, 0.12 , 0.925, 0.705, 0.12 ]), 'split2_test_score': array([0.92 , 0.62 , 0.12 , 0.915, 0.66 , 0.12 , 0.915, 0.66 , 0.12 ]), 'split3_test_score': array([0.905, 0.615, 0.125, 0.91 , 0.65 , 0.125, 0.91 , 0.65 , 0.125]), 'split4_test_score': array([0.88 , 0.645, 0.12 , 0.89 , 0.685, 0.12 , 0.89 , 0.685, 0.12 ]), 'mean_test_score': array([0.904, 0.631, 0.121, 0.91 , 0.667, 0.121, 0.91 , 0.667, 0.121]), 'std_test_score': array([0.01714643, 0.02083267, 0.002     , 0.01140175, 0.02501999,\n",
      "       0.002     , 0.01140175, 0.02501999, 0.002     ]), 'rank_test_score': array([3, 6, 7, 1, 4, 7, 1, 4, 7])}\n"
     ]
    }
   ],
   "source": [
    "#linear SVM\n",
    "parameters = {'C': [1, 10, 100]}\n",
    "linear_SVM = SVC(kernel='linear')\n",
    "gd1 = GridSearchCV(linear_SVM, parameters, n_jobs=-1)\n",
    "gd1.fit(X_train, y_train)\n",
    "print ('RESULTS FOR LINEAR KERNEL\\n')\n",
    "print(\"Best parameters set found:\")\n",
    "print(gd1.best_params_)\n",
    "print(\"Score with best parameters:\")\n",
    "print(gd1.best_score_)\n",
    "print(\"\\nAll scores on the grid:\")\n",
    "print(gd1.cv_results_)\n",
    "\n",
    "#poly with degree 2 kernel\n",
    "parameters = {'C': [1, 10, 100],'gamma':[0.01,0.1,1.]}\n",
    "poly2_SVM = SVC(kernel='poly',degree=2)\n",
    "gd2 = GridSearchCV(poly2_SVM, parameters, n_jobs=-1)\n",
    "gd2.fit(X_train, y_train)\n",
    "print ('\\nRESULTS FOR POLY DEGREE=2 KERNEL\\n')\n",
    "print(\"Best parameters set found:\")\n",
    "print(gd2.best_params_)\n",
    "print(\"Score with best parameters:\")\n",
    "print(gd2.best_score_)\n",
    "print(\"\\nAll scores on the grid:\")\n",
    "print(gd2.cv_results_)\n",
    "\n",
    "#rbf SVM\n",
    "parameters = {'C': [1, 10, 100],'gamma':[0.01,0.1,1.]}\n",
    "rbf_SVM = SVC(kernel='rbf')\n",
    "gd3 = GridSearchCV(rbf_SVM, parameters, n_jobs=-1)\n",
    "gd3.fit(X_train, y_train)\n",
    "print ('\\nRESULTS FOR rbf KERNEL\\n')\n",
    "print(\"Best parameters set found:\")\n",
    "print(gd3.best_params_)\n",
    "print(\"Score with best parameters:\")\n",
    "print(gd3.best_score_)\n",
    "print(\"\\nAll scores on the grid:\")\n",
    "print(gd3.cv_results_)\n"
   ]
  },
  {
   "cell_type": "code",
   "execution_count": 67,
   "metadata": {},
   "outputs": [
    {
     "name": "stdout",
     "output_type": "stream",
     "text": [
      "Best SVM training error: 0.000000\n",
      "Best SVM test error: 0.082478\n"
     ]
    }
   ],
   "source": [
    "#best SVM\n",
    "best_SVM = SVC(kernel='rbf',C=10,gamma=0.01)\n",
    "best_SVM.fit(X_train, y_train)\n",
    "training_error = 1. - best_SVM.score(X_train,y_train)\n",
    "test_error = 1. - best_SVM.score(X_test,y_test)\n",
    "print (\"Best SVM training error: %f\" % training_error)\n",
    "print (\"Best SVM test error: %f\" % test_error)\n"
   ]
  },
  {
   "cell_type": "code",
   "execution_count": 68,
   "metadata": {},
   "outputs": [
    {
     "name": "stderr",
     "output_type": "stream",
     "text": [
      "C:\\Users\\David\\anaconda3\\lib\\site-packages\\sklearn\\linear_model\\_logistic.py:814: ConvergenceWarning: lbfgs failed to converge (status=1):\n",
      "STOP: TOTAL NO. of ITERATIONS REACHED LIMIT.\n",
      "\n",
      "Increase the number of iterations (max_iter) or scale the data as shown in:\n",
      "    https://scikit-learn.org/stable/modules/preprocessing.html\n",
      "Please also refer to the documentation for alternative solver options:\n",
      "    https://scikit-learn.org/stable/modules/linear_model.html#logistic-regression\n",
      "  n_iter_i = _check_optimize_result(\n"
     ]
    },
    {
     "name": "stdout",
     "output_type": "stream",
     "text": [
      "Best logistic regression training error: 0.000000\n",
      "Best logistic regression test error: 0.131986\n",
      "Best logistic regression training error with CV: 0.050000\n",
      "Best logistic regression test error with CV: 0.131913\n"
     ]
    }
   ],
   "source": [
    "#logistic regression\n",
    "lr = linear_model.LogisticRegression()\n",
    "lr.fit(X_train, y_train)\n",
    "training_error = 1 - lr.score(X_train, y_train)\n",
    "test_error = 1- lr.score(X_test, y_test)\n",
    "print (\"Best logistic regression training error: %f\" % training_error)\n",
    "print (\"Best logistic regression test error: %f\" % test_error)\n",
    "\n",
    "\n",
    "lr_cv = linear_model.LogisticRegressionCV(cv=5, n_jobs=-1).fit(X_train, y_train)\n",
    "training_error_cv = 1 - lr_cv.score(X_train, y_train)\n",
    "test_error_cv = 1 - lr_cv.score(X_test, y_test)\n",
    "print (\"Best logistic regression training error with CV: %f\" % training_error_cv)\n",
    "print (\"Best logistic regression test error with CV: %f\" % test_error_cv)"
   ]
  },
  {
   "cell_type": "code",
   "execution_count": 69,
   "metadata": {},
   "outputs": [
    {
     "name": "stdout",
     "output_type": "stream",
     "text": [
      "INPUT:\n"
     ]
    },
    {
     "data": {
      "image/png": "[encoded data removed]",
      "text/plain": [
       "<Figure size 432x288 with 1 Axes>"
      ]
     },
     "metadata": {
      "needs_background": "light"
     },
     "output_type": "display_data"
    },
    {
     "name": "stdout",
     "output_type": "stream",
     "text": [
      "LABEL: 9\n",
      "lr prediction:  7\n"
     ]
    }
   ],
   "source": [
    "prediction_lr = lr_cv.predict(X_test)\n",
    "misclassified_index_lr = (np.where(y_test != prediction_lr))[0]\n",
    "prediction_best = best_SVM.predict(X_test)\n",
    "for i in misclassified_index_lr:\n",
    "    if(prediction_best[i] == y_test[i]):\n",
    "        plot_digit(X_test, y_test, i)\n",
    "        print(\"lr prediction: \", prediction_lr[i])\n",
    "        break"
   ]
  },
  {
   "cell_type": "markdown",
   "metadata": {},
   "source": [
    "## TO DO 7\n",
    "Compare and comment on the differences with the results above.\n",
    "\n",
    "**ANSWER** I have tried to repeat the entire analysis using more samples for training. The best kernel for the SVM model is still the rbf with the same parameters as above.\n",
    "\n",
    "For a better view, follows the table with the results obtained using 500 samples for training:\n",
    "\n",
    "|                   | **SVM**  | **logistic regression** | **logistic regression CV** |\n",
    "|-------------------|----------|-------------------------|----------------------------|\n",
    "| **Training error**| 0.000000 | 0.000000                | 0.000000                   |\n",
    "| **Test error**    | 0.104619 | 0.153928                | 0.155554                   |\n",
    "\n",
    "The following table represents the results obtained using 1000 samples for training:\n",
    "\n",
    "| **value**     | **SVM**  | **logistic regression** | **logistic regression CV** |\n",
    "|---------------|----------|-------------------------|----------------------------|\n",
    "| Training error| 0.000000 | 0.000000                | 0.050000                   |\n",
    "| Test error    | 0.082478 | 0.131986                | 0.131913                   |\n",
    "\n",
    "As we can see, doubling the data for training the results are better but not a lot. \n",
    "\n",
    "Looking at the results, the SVM is still the best model and the one using logistic regression with the parameter found with 5-fold CV is slightly better than the other logistic regression model. It could be possible that with 500 samples there is not enough data to perform the 5-fold CV and find the best parameter. In fact by looking at the results with 1000 samples the one with CV is improved more than the other logistic regression model. On the other hand, using even more data for training could increase the complexity of the models and cause overfitting. \n",
    "\n",
    "The logistic regression with CV has a training error different from zero. This could be due to the data used for selecting the parameter that maybe does not represent to the best the entire training set. Anyway that error is very small and we are more interested in the test error.\n",
    "\n",
    "To sum up, with 1000 samples the logistic regression models are almost identical while the SVM model has the lowest test error and so it is better for making predictions on this data.\n"
   ]
  },
  {
   "cell_type": "code",
   "execution_count": null,
   "metadata": {},
   "outputs": [],
   "source": []
  }
 ],
 "metadata": {
  "kernelspec": {
   "display_name": "Python 3 (ipykernel)",
   "language": "python",
   "name": "python3"
  },
  "language_info": {
   "codemirror_mode": {
    "name": "ipython",
    "version": 3
   },
   "file_extension": ".py",
   "mimetype": "text/x-python",
   "name": "python",
   "nbconvert_exporter": "python",
   "pygments_lexer": "ipython3",
   "version": "3.9.12"
  }
 },
 "nbformat": 4,
 "nbformat_minor": 4
}
